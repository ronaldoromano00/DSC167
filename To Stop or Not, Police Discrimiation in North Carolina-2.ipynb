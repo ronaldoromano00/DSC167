{
 "cells": [
  {
   "cell_type": "code",
   "execution_count": 165,
   "id": "fe2e9805",
   "metadata": {},
   "outputs": [],
   "source": [
    "import numpy as np\n",
    "from sklearn.preprocessing import OneHotEncoder\n",
    "from sklearn.discriminant_analysis import LinearDiscriminantAnalysis\n",
    "from sklearn.model_selection import train_test_split\n",
    "from sklearn import metrics\n",
    "import random\n",
    "import matplotlib.pyplot as plt"
   ]
  },
  {
   "cell_type": "markdown",
   "id": "e680eeef",
   "metadata": {},
   "source": [
    "Jason Sheu\n",
    "\n",
    "Ronaldo Romano"
   ]
  },
  {
   "cell_type": "markdown",
   "id": "d55c05dd",
   "metadata": {},
   "source": [
    "America, with its deep unfortunate history of slavery, discrimination, and racism, has evolved to the point where racial discrimination can be found at all levels of life and governement. A common point brought up when talking about America’s problems with systemic racism is the discrimination found within the policing system. It is often perceived that black and hispanic Americans are treated unfairly by police in most situations, due to different racial stereotypes. With traffic stops being the primary way that Americans interact with police, traffic stop data proves to be incredibly useful in what insights it can provide us. The assumption in all traffic stops is that it is up to an officer to determine if the stopped individual is suspicious enough to engage in one of few post stop outcomes: a search, citation, or arrest. However, suspicion can be subjective, and without proof, which is where the implicit bias that some officers have comes into play. In this paper we will be exploring the different ways to identify racial bias in policing, and how different factors, both racial and social, have different effects on post stop outcomes, with a deep dive into police traffic stop data from Charlotte, North Carolina. "
   ]
  },
  {
   "cell_type": "markdown",
   "id": "8ed3f88d",
   "metadata": {},
   "source": [
    "To understand the roots of racial inequality in America, we have to understand the roots of American policing, and how those roots stem from the slave trade, slave catchers, and the slave code. Police departments were first founded in many cities across America to mimic the departments found in England at the time. However, the police in slave states were based in the slave catching industry (Hassett-Walker). The first slave patrols came to be in the early 18th century, to catch and return any escaped slaves, to quell slave riots, and to punish slaves for misbehavior. By the end of the 18th century, they had evolved into government funded groups with no oversight and almost complete freedom to act against any slaves. With the south’s defeat in the Civil War, slave patrols became the south’s police departments, meant to uphold the new Black Codes to had be enacted (Hassett-Walker). The Black Codes were laws passed after the abolition of slavery in 1865 that limited what freed slaves could do in terms of work and pay, essentially keeping them enslaved, and these Codes eventually turned into the Jim Crow laws, which continued to discriminate against freed slaves and their descendants. The police would continue in their role of enforcing these racist laws, even through the civil rights act of 1964, which banned any discrimination based on race, gender or ethnicity. The racist roots of our modern policing systems have never been addressed, and with biases being taught and passed down from each generation of police to the next, we can see how this problem of systemic racism in policing is still so prevalent and hard to eradicate. In recent years, more and more attention is being brought towards discrimiation in policing decisions and outcomes with regard to a subject’s race. Recent polls conducted by Gallup indicate that Black adults in America feel they are being mistreated when in an encounter with the police. 59% of Black people feel that they had a positive experience with the police, and the remaining 41% did not have a positive experience. Comparatively, 75% of White adults say that they have a positive experience, with 25% not having a positive experience (Gallup). This large difference points to a trend that Black people  are indeed treated differently by police, whether it be through a traffic stop or other means of interaction. To further explore this perceived irregularity, we will be investigating traffic stop data from Charlotte, North Carolina, a state that has deep roots in slavery and racism. Using data sourced by the Stanford Open Policing project, we will look at different post stop outcomes when compared to race, and see how there may be differences between the ways that Black drivers are stopped when compared to White drivers."
   ]
  },
  {
   "cell_type": "markdown",
   "id": "2ec5f47b",
   "metadata": {},
   "source": [
    "The data we got from the Stanford Open Policing has quite a few columns that would be helpful in our investigation of our proposed problem. Some of these include citation issued, warning issued, arrest made, the specific reasons, what the outcome was, the ethnicity (Hispanic/not Hispanic),  and the race of the driver. From week 2, lecture 4 we go over race as a variable in data and how it is mainly political and how the census uses this collected data for money distribution (Aaron’s slides/book). Although the race column in this dataset does not cover a lot of different races, we do have the race for Black drivers and White drivers which is what we are mainly going to be using to get our results. If we were to not have the columns of driver race, contraband found, outcome, or if a search was conducted, then that would greatly impact our ability to do any sort of analysis on figuring out whether there is some sort of bias happening. For example, if we did not have the contraband found column in our dataset and we were trying to build a prediction model that predicts whether or not someone should be searched, we would be unable to teach it to be unbiased. Let's say that the model predicted to search the driver, but in real life they did not search, we would want to flip this predicted label to a 0, as in no search, but our data does not have this information, therefore we can not switch it. If the driver was searched, but we do not have the contraband found variable then we would not be able to say if this search was justifiable or not. If we did not have the race column, then that is obvious, we would not be able to do any sort of analysis, at that point it would be just stops recorded. In terms of power within the police force, specifically in Charlotte, NC, 68% of police officers are White officers (CMPD Dataset). As we see in the dataset, the stops are mostly comprised of Black drivers. This deals with the interpersonal domain within the matrix of domination and how Black drivers do not feel safe around White officers because of past incidents around the country. These ideas can be connected to hegemonic domain which is what we see in the media. Always seeing stories of Black people getting mistreated by White officers and this conveys a message to the country."
   ]
  },
  {
   "cell_type": "code",
   "execution_count": 105,
   "id": "bffb16f6",
   "metadata": {},
   "outputs": [],
   "source": [
    "import pandas as pd"
   ]
  },
  {
   "cell_type": "code",
   "execution_count": 106,
   "id": "a2f4c7b6",
   "metadata": {},
   "outputs": [],
   "source": [
    "stops = pd.read_csv('nc_charlotte_2020_04_01.csv')"
   ]
  },
  {
   "cell_type": "code",
   "execution_count": 107,
   "id": "8f7b8b24",
   "metadata": {},
   "outputs": [],
   "source": [
    "stops = stops.drop(['raw_row_number', 'raw_action_description', 'raw_Ethnicity', 'raw_Race', 'department_name', 'location', 'county_name'],axis=1)"
   ]
  },
  {
   "cell_type": "code",
   "execution_count": 108,
   "id": "25fae809",
   "metadata": {},
   "outputs": [],
   "source": [
    "stops = stops[stops['subject_race'] != 'unknown']\n",
    "stops = stops[stops['subject_race'] != 'other']"
   ]
  },
  {
   "cell_type": "code",
   "execution_count": 109,
   "id": "58818dd9",
   "metadata": {},
   "outputs": [],
   "source": [
    "def get_year(x):\n",
    "    return int(x[:4])"
   ]
  },
  {
   "cell_type": "code",
   "execution_count": 110,
   "id": "b2be9f6f",
   "metadata": {},
   "outputs": [],
   "source": [
    "stops['year'] = stops['date'].apply(get_year)"
   ]
  },
  {
   "cell_type": "code",
   "execution_count": 111,
   "id": "e3b88af6",
   "metadata": {},
   "outputs": [],
   "source": [
    "def get_yearly_count(df):\n",
    "    all_years = list(df['year'].unique())\n",
    "    for i in all_years:\n",
    "        print(str(i)+': '+str(sum(df['year']==i)))"
   ]
  },
  {
   "cell_type": "code",
   "execution_count": 112,
   "id": "8fe17667",
   "metadata": {},
   "outputs": [],
   "source": [
    "stops = stops[stops['year']==2014]"
   ]
  },
  {
   "cell_type": "code",
   "execution_count": 113,
   "id": "a22aa81d",
   "metadata": {},
   "outputs": [],
   "source": [
    "stops = stops.drop(['reason_for_frisk', 'reason_for_search'], axis=1)"
   ]
  },
  {
   "cell_type": "code",
   "execution_count": 114,
   "id": "ff2b3546",
   "metadata": {},
   "outputs": [],
   "source": [
    "def replace_na(x, col_name):\n",
    "    if x['search_conducted'] == True:\n",
    "        return x[col_name]\n",
    "    else:\n",
    "        return False"
   ]
  },
  {
   "cell_type": "code",
   "execution_count": 115,
   "id": "8a388c7f",
   "metadata": {},
   "outputs": [],
   "source": [
    "stops['improved_contra_found'] = stops.apply(lambda x: replace_na(x, 'contraband_found'), axis=1)\n",
    "stops['improved_contra_drugs'] = stops.apply(lambda x: replace_na(x, 'contraband_drugs'), axis=1)\n",
    "stops['improved_contra_weapons'] = stops.apply(lambda x: replace_na(x, 'contraband_weapons'), axis=1)\n",
    "stops['improved_search_basis'] = stops.apply(lambda x: replace_na(x, 'search_basis'), axis=1)"
   ]
  },
  {
   "cell_type": "code",
   "execution_count": 116,
   "id": "6972a271",
   "metadata": {},
   "outputs": [],
   "source": [
    "stops = stops.drop(['contraband_found', 'contraband_drugs', 'contraband_weapons', 'search_basis'], axis=1)"
   ]
  },
  {
   "cell_type": "code",
   "execution_count": 117,
   "id": "83f187d3",
   "metadata": {},
   "outputs": [],
   "source": [
    "stops = stops.dropna()"
   ]
  },
  {
   "cell_type": "markdown",
   "id": "43e86bde",
   "metadata": {},
   "source": [
    "We will be using demographic data to measure demographic parity. By using public data that describes Charlotte’s demographic profile. According to the US Census, Charlotte’s racial breakdown is: 46.7% white, 35.5% black, 6.6% asian, and 14.6% hispanic for the major racial groups. These are also the racial groups we see represented in our traffic stop data. To analyze our data, we will be comparing the overall racial breakdown of our stop data to the racial breakdown of Charlotte. We expect our data to be similar to the breakdown of the city, and if it is not, that is a sign that there might be more going on when police are pulling drivers over, and that the process is not fair. After cleaning out data, we calculated the racial breakdown of our stops data. We found that our data was 35.6% white, 53.0% black, 1.7% asian, and 10% hispanic. We can see that overall, white people and black make up a slightly larger proportion of the dataset combined, making up 88.6% of the stops data, when they only comprise 82.2% of the city’s population. We can also see a pretty large difference between the stop rates of white people and Black people. White people made up 35.6% of our dataset, when they actually take up 46.7% of the population. Black people , however, make up 53% of our dataset, when they only take up 35.5% of the population. We also calculated the demographic breakdown of the people that were searched after a stop, to find that Black drivers were the group that was most searched, at 71% of all searches, compared to white drivers making up 20%. This is a huge difference from Charlotte’s overall demographic breakdown. Through our demographic parity measure, there is unfairness in the way that police officers pull over drivers. To confirm this, we performed a t-test on the arrest and search rates between white people and Black people, on a sample size of 10,000, with a null hypothesis that the arrest and search rates should be the same across groups. For arrests, we got a p-value of 0.14, and for searches, we got a p-value of 2.6x10^-26. With these p-values, we accept the null hypothesis for arrests, but reject the null hypothesis for searches."
   ]
  },
  {
   "cell_type": "code",
   "execution_count": 118,
   "id": "f63dfb06",
   "metadata": {},
   "outputs": [
    {
     "data": {
      "text/html": [
       "<div>\n",
       "<style scoped>\n",
       "    .dataframe tbody tr th:only-of-type {\n",
       "        vertical-align: middle;\n",
       "    }\n",
       "\n",
       "    .dataframe tbody tr th {\n",
       "        vertical-align: top;\n",
       "    }\n",
       "\n",
       "    .dataframe thead th {\n",
       "        text-align: right;\n",
       "    }\n",
       "</style>\n",
       "<table border=\"1\" class=\"dataframe\">\n",
       "  <thead>\n",
       "    <tr style=\"text-align: right;\">\n",
       "      <th></th>\n",
       "      <th>charlotte population</th>\n",
       "      <th>charlotte stopped</th>\n",
       "      <th>charlotte searched</th>\n",
       "    </tr>\n",
       "    <tr>\n",
       "      <th>subject_race</th>\n",
       "      <th></th>\n",
       "      <th></th>\n",
       "      <th></th>\n",
       "    </tr>\n",
       "  </thead>\n",
       "  <tbody>\n",
       "    <tr>\n",
       "      <th>asian/pacific islander</th>\n",
       "      <td>6.52</td>\n",
       "      <td>1.728035</td>\n",
       "      <td>0.758150</td>\n",
       "    </tr>\n",
       "    <tr>\n",
       "      <th>black</th>\n",
       "      <td>35.22</td>\n",
       "      <td>52.958258</td>\n",
       "      <td>70.943897</td>\n",
       "    </tr>\n",
       "    <tr>\n",
       "      <th>hispanic</th>\n",
       "      <td>not provided</td>\n",
       "      <td>9.756673</td>\n",
       "      <td>7.903715</td>\n",
       "    </tr>\n",
       "    <tr>\n",
       "      <th>white</th>\n",
       "      <td>48.83</td>\n",
       "      <td>35.557034</td>\n",
       "      <td>20.394238</td>\n",
       "    </tr>\n",
       "  </tbody>\n",
       "</table>\n",
       "</div>"
      ],
      "text/plain": [
       "                       charlotte population  charlotte stopped  \\\n",
       "subject_race                                                     \n",
       "asian/pacific islander                 6.52           1.728035   \n",
       "black                                 35.22          52.958258   \n",
       "hispanic                       not provided           9.756673   \n",
       "white                                 48.83          35.557034   \n",
       "\n",
       "                        charlotte searched  \n",
       "subject_race                                \n",
       "asian/pacific islander            0.758150  \n",
       "black                            70.943897  \n",
       "hispanic                          7.903715  \n",
       "white                            20.394238  "
      ]
     },
     "execution_count": 118,
     "metadata": {},
     "output_type": "execute_result"
    }
   ],
   "source": [
    "pop_v_stopped = pd.DataFrame()\n",
    "actual_pop = [6.52, 35.22, 'not provided', 48.83]\n",
    "races = ['asian/pacific islander', 'black', 'hispanic', 'white']\n",
    "pop_v_stopped['subject_race'] = races\n",
    "pop_v_stopped = pop_v_stopped.set_index('subject_race')\n",
    "pop_v_stopped['charlotte population'] = actual_pop\n",
    "pop_v_stopped['charlotte stopped'] = (stops.groupby('subject_race').count()['date']/len(stops))*100\n",
    "pop_v_stopped['charlotte searched'] = (stops[stops['search_conducted']].groupby('subject_race').count()['date']/len(stops[stops['search_conducted']]))*100\n",
    "pop_v_stopped"
   ]
  },
  {
   "cell_type": "code",
   "execution_count": 119,
   "id": "f4b3b67a",
   "metadata": {},
   "outputs": [],
   "source": [
    "def day_night(x):\n",
    "    if x['time'] > '20:15:00' and x['time'] < '23:59:59':\n",
    "        return 'night'\n",
    "    elif x['time'] < '06:45:00' and x['time'] > '00:00:00':\n",
    "        return 'night'\n",
    "    else:\n",
    "        return 'day'"
   ]
  },
  {
   "cell_type": "code",
   "execution_count": 120,
   "id": "665a8aa7",
   "metadata": {},
   "outputs": [],
   "source": [
    "stops['day_night'] = stops.apply(lambda x: day_night(x), axis=1)"
   ]
  },
  {
   "cell_type": "code",
   "execution_count": 121,
   "id": "11dc688f",
   "metadata": {},
   "outputs": [],
   "source": [
    "day_stops = stops[stops['day_night']=='day']\n",
    "night_stops = stops[stops['day_night']=='night']"
   ]
  },
  {
   "cell_type": "code",
   "execution_count": 122,
   "id": "5063e93f",
   "metadata": {},
   "outputs": [],
   "source": [
    "day_overall = day_stops.groupby('subject_race').count().sort_values('subject_race')\n",
    "day_search = day_stops[day_stops['search_conducted']].groupby('subject_race').count().sort_values('subject_race')"
   ]
  },
  {
   "cell_type": "code",
   "execution_count": 123,
   "id": "e8a48031",
   "metadata": {},
   "outputs": [],
   "source": [
    "# (day_search['date']/day_overall['date'])*100"
   ]
  },
  {
   "cell_type": "code",
   "execution_count": 124,
   "id": "cdabca8c",
   "metadata": {},
   "outputs": [],
   "source": [
    "night_overall = night_stops.groupby('subject_race').count().sort_values('subject_race')\n",
    "night_search = night_stops[night_stops['search_conducted']].groupby('subject_race').count().sort_values('subject_race')"
   ]
  },
  {
   "cell_type": "code",
   "execution_count": 125,
   "id": "b2f6e928",
   "metadata": {
    "scrolled": true
   },
   "outputs": [],
   "source": [
    "# (night_search['date']/night_overall['date'])*100"
   ]
  },
  {
   "cell_type": "code",
   "execution_count": 126,
   "id": "262a6d69",
   "metadata": {},
   "outputs": [],
   "source": [
    "# len(day_stops), len(night_stops)"
   ]
  },
  {
   "cell_type": "markdown",
   "id": "909cd360",
   "metadata": {},
   "source": [
    "Another thing we wanted to add for our demographic parity was day search rates versus night search rates, so if 15% of stopped White drivers were searched during the day, we would expect a similar rate during the night. We ended up seeing that every race is more likely to get searched during the night than they are during the day. "
   ]
  },
  {
   "cell_type": "code",
   "execution_count": 127,
   "id": "b37d30ce",
   "metadata": {},
   "outputs": [
    {
     "data": {
      "text/html": [
       "<div>\n",
       "<style scoped>\n",
       "    .dataframe tbody tr th:only-of-type {\n",
       "        vertical-align: middle;\n",
       "    }\n",
       "\n",
       "    .dataframe tbody tr th {\n",
       "        vertical-align: top;\n",
       "    }\n",
       "\n",
       "    .dataframe thead th {\n",
       "        text-align: right;\n",
       "    }\n",
       "</style>\n",
       "<table border=\"1\" class=\"dataframe\">\n",
       "  <thead>\n",
       "    <tr style=\"text-align: right;\">\n",
       "      <th></th>\n",
       "      <th>day search rate</th>\n",
       "      <th>night search rate</th>\n",
       "    </tr>\n",
       "    <tr>\n",
       "      <th>subject_race</th>\n",
       "      <th></th>\n",
       "      <th></th>\n",
       "    </tr>\n",
       "  </thead>\n",
       "  <tbody>\n",
       "    <tr>\n",
       "      <th>asian/pacific islander</th>\n",
       "      <td>0.797101</td>\n",
       "      <td>2.799228</td>\n",
       "    </tr>\n",
       "    <tr>\n",
       "      <th>black</th>\n",
       "      <td>3.490289</td>\n",
       "      <td>7.304628</td>\n",
       "    </tr>\n",
       "    <tr>\n",
       "      <th>hispanic</th>\n",
       "      <td>1.659263</td>\n",
       "      <td>4.843828</td>\n",
       "    </tr>\n",
       "    <tr>\n",
       "      <th>white</th>\n",
       "      <td>1.065586</td>\n",
       "      <td>4.396878</td>\n",
       "    </tr>\n",
       "  </tbody>\n",
       "</table>\n",
       "</div>"
      ],
      "text/plain": [
       "                        day search rate  night search rate\n",
       "subject_race                                              \n",
       "asian/pacific islander         0.797101           2.799228\n",
       "black                          3.490289           7.304628\n",
       "hispanic                       1.659263           4.843828\n",
       "white                          1.065586           4.396878"
      ]
     },
     "execution_count": 127,
     "metadata": {},
     "output_type": "execute_result"
    }
   ],
   "source": [
    "day_v_night = pd.DataFrame()\n",
    "day_v_night['day search rate'] = (day_search['date']/day_overall['date'])*100\n",
    "day_v_night['night search rate'] = (night_search['date']/night_overall['date'])*100\n",
    "day_v_night"
   ]
  },
  {
   "cell_type": "markdown",
   "id": "19e86211",
   "metadata": {},
   "source": [
    "We wanted to also search rate for each race at every hour of the day. The results we got show that the majority of stops performed at each hour are comprised of Black drivers, followed by White drivers, Hispanic drivers, and Asian/Pacific Islander drivers. There is a big gap between search rates of Black drivers and White drivers."
   ]
  },
  {
   "cell_type": "code",
   "execution_count": 128,
   "id": "1234206c",
   "metadata": {},
   "outputs": [
    {
     "data": {
      "text/plain": [
       "Text(0.5, 1.0, 'Search Rate per Hour, grouped by Race')"
      ]
     },
     "execution_count": 128,
     "metadata": {},
     "output_type": "execute_result"
    },
    {
     "data": {
      "image/png": "[encoded data removed]",
      "text/plain": [
       "<Figure size 432x288 with 1 Axes>"
      ]
     },
     "metadata": {
      "needs_background": "light"
     },
     "output_type": "display_data"
    }
   ],
   "source": [
    "import matplotlib.pyplot as plt\n",
    "\n",
    "scatter = plt.scatter(hour_race.hour_day, hour_race.rate, c=hour_race.subject_race.astype('category').cat.codes)\n",
    "plt.xlabel(\"Hour of Day\",\n",
    "            size=14)\n",
    "plt.ylabel(\"Rate/Percentage\", \n",
    "            size=14)\n",
    "plt.legend(handles=scatter.legend_elements()[0], \n",
    "           labels=list(hour_race['subject_race'].unique()),\n",
    "           title=\"Race\")\n",
    "plt.title(\"Search Rate per Hour, grouped by Race\",\n",
    "            size=14)"
   ]
  },
  {
   "cell_type": "markdown",
   "id": "4487c19c",
   "metadata": {},
   "source": [
    "From these results, we can conclude that there is indeed inequality in police search and stop rates, particularly between white and Black drivers, but analysis showed that there was no inequality in arrest rates. For stop rates, we can see that black drivers have a much higher stop rate when compared to their demographic breakdown. However, this approach is not without limitations. The higher stop rate of black drivers could possibly be attributed to where they were stopped. For example, if a police officer primarily patrols a neighborhood that has a higher population of black people, they will be stopping black people more often on average due to the larger number of them coming and leaving the area. One way to improve on this parity metric is by using census data. By using census data and police district lines, we can get more granular information about the racial breakdown of the police district someone was stopped in, and do that comparison of stop rates by district compared to racial breakdown. However, this does not discount the presence of a disparity between the demographic breakdown of Charlotte and the actual observed stop racial breakdown of white and Black drivers. The reasoning as to why we decided to do the demographic parity between stop rates during the day and during the night was because of the Veil of Darkness. The Veil of Darkness is basically splitting the data up into two parts, stops conducting during the day when the sun is out and can clearly see the drivers’ race and during the night when it is much harder for officers to see the drivers’ race, thus not being able to bias towards a specific group, if there is any. This drastic shift in breakdowns is likely attributed to the racist history of this state, and how implicit biases have been passed down through generations of police and cultural training, leading officers to believe that Black people are more likely to commit crimes. For search rates, we see an alarmingly large difference in demographic breakdown, as well as a low p-value as a result of our t-test, leading us to believe that inequality is occurring in searches. This makes sense, as once a car is stopped, an officer can clearly see the race of the driver after obtaining their license and registration, and if that officer is biased towards thinking that Black people are likely to be in possession of contraband, they will be more likely to do a search based on their “reasonable suspicion.” This parity measure is again limited by the broad scale of our analysis, and can be improved upon by using census data and police districts, but the disparity is large enough to warrant beyond a reasonable doubt that there is indeed inequality in police searches. Finally, we can look at the arrest rates and the t-test we conducted on the data with arrests in mind. There isn’t a clear showing of inequality in arrests, which actually further supports our conclusion that there is inequality in searches. If contraband was actually found in a search, the driver would likely be arrested, or at the very least, cited. But since arrest rates are fairly equal across racial groups, this suggests that even with the higher number of Black drivers being searched, Black people are not arrested more, since they do not actually carry contraband more often. Furthermore, arrests are much more complicated to carry out compared to a search. Officers need to write an arrest report, and bring in the driver for booking, making it very hard for them to falsely arrest and hold a driver for a fake crime. Even if an officer is biased, they are not likely to break the law just to arrest more Black people. Our analysis, while having a likely overrepresentation of potential biases, still paints alarming results regarding inequality in police stop, search, and arrest rates."
   ]
  },
  {
   "cell_type": "markdown",
   "id": "463d3403",
   "metadata": {},
   "source": [
    "In conclusion, we see that there is indeed some bias going on during traffic stops in Charlotte, North Carolina. Through demographic parity, there is some evidence to show that Black drivers are getting stopped more than they should be. The rate at which they are getting stopped and searched is higher than the percentage of Black people living in Charlotte. "
   ]
  },
  {
   "cell_type": "markdown",
   "id": "3487b6b8",
   "metadata": {},
   "source": [
    "**Sources**\n",
    "\n",
    "https://worldpopulationreview.com/us-cities/charlotte-nc-population \n",
    "\n",
    "https://news.gallup.com/poll/316247/black-americans-police-encounters-not-positive.aspx\n",
    "\n",
    "https://www.americanbar.org/groups/crsj/publications/human_rights_magazine_home/civil-rights-reimagining-policing/how-you-start-is-how-you-finish/\n",
    "\n",
    "https://5harad.com/papers/100M-stops.pdf\n",
    "\n",
    "https://data.charlottenc.gov/datasets/cmpd-employee-demographics/explore\n"
   ]
  },
  {
   "cell_type": "code",
   "execution_count": 129,
   "id": "0edb830b",
   "metadata": {},
   "outputs": [],
   "source": [
    "f = dict()\n",
    "hour = 0\n",
    "for i in range(24):\n",
    "    if i < 10:\n",
    "        curr = '0'+str(i)\n",
    "    else:\n",
    "        curr = str(i)\n",
    "    f[curr] = hour\n",
    "    hour+=1"
   ]
  },
  {
   "cell_type": "code",
   "execution_count": 130,
   "id": "12eb097b",
   "metadata": {},
   "outputs": [],
   "source": [
    "def get_hour(x):\n",
    "    return f[x['time'][:2]]"
   ]
  },
  {
   "cell_type": "code",
   "execution_count": 131,
   "id": "0ed6d360",
   "metadata": {},
   "outputs": [],
   "source": [
    "stops['hour_day'] = stops.apply(lambda x: get_hour(x), axis=1)"
   ]
  },
  {
   "cell_type": "code",
   "execution_count": 132,
   "id": "27a607bf",
   "metadata": {},
   "outputs": [],
   "source": [
    "per_hour = (stops[stops['search_conducted']].groupby('hour_day').count()['date']).to_dict()"
   ]
  },
  {
   "cell_type": "code",
   "execution_count": 133,
   "id": "63bb537c",
   "metadata": {},
   "outputs": [],
   "source": [
    "hour_race = stops[stops['search_conducted']].groupby(['subject_race','hour_day']).count()[['date']].reset_index()"
   ]
  },
  {
   "cell_type": "code",
   "execution_count": 134,
   "id": "aeeb2f56",
   "metadata": {},
   "outputs": [],
   "source": [
    "def get_hr_rate(x):\n",
    "    return (x['date']/per_hour[x['hour_day']])*100"
   ]
  },
  {
   "cell_type": "code",
   "execution_count": 135,
   "id": "3ff32333",
   "metadata": {},
   "outputs": [],
   "source": [
    "hour_race['rate'] = hour_race.apply(lambda x: get_hr_rate(x), axis=1)"
   ]
  },
  {
   "cell_type": "code",
   "execution_count": 136,
   "id": "4488006a",
   "metadata": {},
   "outputs": [],
   "source": [
    "hour_race = hour_race.drop(['date'],axis=1)"
   ]
  },
  {
   "cell_type": "markdown",
   "id": "ca7a8a0a",
   "metadata": {},
   "source": [
    "# PAPER 2 STUFF"
   ]
  },
  {
   "cell_type": "code",
   "execution_count": 149,
   "id": "e68bc6a1",
   "metadata": {},
   "outputs": [],
   "source": [
    "stops = stops.loc[(stops['subject_race']=='white')|(stops['subject_race']=='black')]"
   ]
  },
  {
   "cell_type": "code",
   "execution_count": 150,
   "id": "95e7be3b",
   "metadata": {},
   "outputs": [],
   "source": [
    "def prepare_data(input_df):\n",
    "    \"\"\"Prepare the Stanford Open Policing Data to be used in the classification model\n",
    "    Parameters\n",
    "    ----------\n",
    "    csv_link : str\n",
    "        The link of the data you want to do analysis on.\n",
    "    race_included : int\n",
    "        If you want the model to include race or not, 1 \n",
    "        indicating race should be included, else race will not be included.\"\"\"\n",
    "    \n",
    "    def convert_search(x):\n",
    "        if x:\n",
    "            return 1\n",
    "        else:\n",
    "            return 0\n",
    "        \n",
    "    def get_month(x):\n",
    "        return int(x[5:7])\n",
    "    \n",
    "    def get_year(x):\n",
    "        return int(x[:4])\n",
    "    \n",
    "    def time_gaps(x):\n",
    "        if x >= '05:00:00' and x < '12:00:00':\n",
    "            return 'Morning'\n",
    "        elif x >= '12:00:00' and x < '17:00:00':\n",
    "            return 'Afternoon'\n",
    "        elif x >= '17:00:00' and x < '21:00:00':\n",
    "            return 'Evening'\n",
    "        elif x >= '21:00:00' and x < '05:00:00':\n",
    "            return 'Night'\n",
    "        \n",
    "    def change_contraband(row):\n",
    "        if row['is_searched'] == 1:\n",
    "            return row['improved_contra_found']\n",
    "        else:\n",
    "            return False\n",
    "        \n",
    "    def failed_search(row):\n",
    "        if row['is_searched'] == 1 and row['improved_contra_found'] == False:\n",
    "            return 1\n",
    "        else:\n",
    "            return 0\n",
    "        \n",
    "    def improved_target(row):\n",
    "        if row['is_searched'] == 1 and row['failed_search'] == 1:\n",
    "            return 0\n",
    "        elif row['is_searched'] == 0:\n",
    "            return 0\n",
    "        else:\n",
    "            return 1\n",
    "        \n",
    "    def change_month(row):\n",
    "        curr_month = row['month']\n",
    "        curr_year = row['year']\n",
    "        return 12*(year_lst.index(curr_year)+1)-(12-curr_month)    \n",
    "    \n",
    "    stanford_df = input_df\n",
    "    stanford_df = stanford_df[stanford_df['date'].notna()]\n",
    "    stanford_df = stanford_df[stanford_df['time'].notna()]\n",
    "\n",
    "\n",
    "    use_columns = ['date', 'time', 'subject_age', 'reason_for_stop', 'subject_race', 'subject_sex',\n",
    "                           'type', 'search_conducted', 'improved_contra_found']\n",
    "\n",
    "    # keep all columns that will help in prediction model\n",
    "    stanford_df = stanford_df[use_columns]\n",
    "    \n",
    "    stanford_df = stanford_df[stanford_df['subject_race'].notna()]\n",
    "    race_options = ['white', 'black']\n",
    "    stanford_df = stanford_df[stanford_df['subject_race'].isin(race_options)]\n",
    "    \n",
    "    # get the month in a column\n",
    "    stanford_df['month'] = stanford_df['date'].apply(get_month)\n",
    "    \n",
    "    # get the year in a column\n",
    "    stanford_df['year'] = stanford_df['date'].apply(get_year)\n",
    "    \n",
    "    # get day of week name in column\n",
    "    stanford_df['date'] = pd.to_datetime(stanford_df['date'])\n",
    "    stanford_df['day of week'] = stanford_df['date'].dt.day_name()\n",
    "    \n",
    "    # change the month number for all the years\n",
    "    year_lst = list(np.sort(stanford_df['year'].unique()))\n",
    "    stanford_df['month'] = stanford_df.apply(change_month, axis=1)\n",
    "    \n",
    "    stanford_df['time of day'] = stanford_df['time'].apply(time_gaps)\n",
    "    stanford_df['is_searched'] = stanford_df['search_conducted'].apply(convert_search)\n",
    "    stanford_df['contraband_found'] = stanford_df.apply(change_contraband, axis=1)\n",
    "    stanford_df['failed_search'] = stanford_df.apply(failed_search, axis=1)\n",
    "    stanford_df['improved_target'] = stanford_df.apply(improved_target, axis=1)\n",
    "    \n",
    "    stanford_df = stanford_df.dropna().reset_index()\n",
    "    stanford_df = stanford_df.drop(['index','time', 'search_conducted', 'date', 'year', 'failed_search'], axis=1)\n",
    "    return stanford_df"
   ]
  },
  {
   "cell_type": "code",
   "execution_count": 180,
   "id": "7c3ab1b7",
   "metadata": {},
   "outputs": [],
   "source": [
    "def eval_model(second_run):\n",
    "    \"\"\"Evaluate the Classification Model\n",
    "    Parameters\n",
    "    ----------\n",
    "    second_run: Pandas DataFrame.\n",
    "            DataFrame to evaluate the model on. \"\"\"\n",
    "    \n",
    "    # analysis between runs\n",
    "    overall_precision = metrics.precision_score(second_run['improved_target'], second_run['preds'], zero_division=0)\n",
    "    overall_recall = metrics.recall_score(second_run['improved_target'], second_run['preds'], zero_division=0)\n",
    "    \n",
    "    black_drivers = second_run[second_run['subject_race_black'] == 1.0]\n",
    "    white_drivers = second_run[second_run['subject_race_white'] == 1.0]\n",
    "\n",
    "    black_precision = metrics.precision_score(black_drivers['improved_target'].values, black_drivers['preds'].values, zero_division=0)\n",
    "    black_recall = metrics.recall_score(black_drivers['improved_target'].values, black_drivers['preds'].values, zero_division=0)\n",
    "\n",
    "    white_precision = metrics.precision_score(white_drivers['improved_target'].values, white_drivers['preds'].values, zero_division=0)\n",
    "    white_recall = metrics.recall_score(white_drivers['improved_target'].values, white_drivers['preds'].values, zero_division=0)\n",
    "    \n",
    "    black_f1 = metrics.f1_score(black_drivers['improved_target'].values, black_drivers['preds'].values, zero_division=0)\n",
    "    white_f1 = metrics.f1_score(white_drivers['improved_target'].values, white_drivers['preds'].values, zero_division=0)\n",
    "\n",
    "    return black_precision, white_precision, black_recall, white_recall, overall_precision, overall_recall, black_f1, white_f1\n"
   ]
  },
  {
   "cell_type": "code",
   "execution_count": 181,
   "id": "cb96e248",
   "metadata": {},
   "outputs": [],
   "source": [
    "def flip_labels(data, contra, searched):\n",
    "    \"\"\"Get the Predictions and modify to make better Model\n",
    "    Parameters\n",
    "    ----------\n",
    "    data : Pandas DataFrame \n",
    "        DataFrame that we want to modify to include 2 new columns\n",
    "    contra : Series\n",
    "        The column (Series) that contains if contraband was found or not\n",
    "    searched : Series\n",
    "        The column (Series) that contains if the driver was searched or not.\"\"\"\n",
    "    \n",
    "    data['contraband_found'] = contra\n",
    "    data['is_searched'] = searched\n",
    "    \n",
    "    contra_rate = np.mean(sum(data['contraband_found'] == True))\n",
    "    \n",
    "    def correct_label(row):\n",
    "        if row['preds'] == 1 and row['improved_target'] == 0:\n",
    "            if row['is_searched'] == 1 and row['contraband_found'] == False:\n",
    "                return 0\n",
    "            if row['is_searched'] == 0:\n",
    "                choices = [0, 1]\n",
    "                distribution = [1-contra_rate, contra_rate]\n",
    "                return random.choices(choices, distribution)[0]\n",
    "        elif row['preds'] == 1 and row['improved_target'] == 1:\n",
    "            return 1\n",
    "        elif row['preds'] == 0 and row['improved_target'] == 0:\n",
    "            return 0\n",
    "        elif row['preds'] == 0 and row['improved_target'] == 1:\n",
    "            return 0\n",
    "    \n",
    "    \n",
    "    temp = data.apply(correct_label, axis = 1)\n",
    "    data['improved_target'] = temp\n",
    "    data = data.drop(['contraband_found', 'is_searched', 'preds'], axis=1)\n",
    "    \n",
    "    return data"
   ]
  },
  {
   "cell_type": "code",
   "execution_count": 182,
   "id": "b9805885",
   "metadata": {},
   "outputs": [],
   "source": [
    "def make_model(data, race = 1, freq = 1):\n",
    "    \"\"\"Train and Make the Classification Model\n",
    "    Parameters\n",
    "    ----------\n",
    "    data : Pandas DataFrame or str\n",
    "        It can either be data that has already been cleaned to be used for \n",
    "        the model or the link of the data you want to do analysis on.\n",
    "    race : int\n",
    "        If you want the model to include race or not, 1 \n",
    "        indicating race should be included, else race will not be included.\n",
    "    freq : int\n",
    "        How many months you want the model to train at a time. Can either \n",
    "        be 1,2,3,4,6.\"\"\"\n",
    "    \n",
    "    if freq not in [1,2,3,4,6]:\n",
    "        raise ValueError(f'Value \"{freq}\" is not allowed choose from 1, 2, 3, 4, 6.')\n",
    "        \n",
    "    # checks if given data is a link or dataframe already\n",
    "    if type(data) == str:\n",
    "        stanford_df = prepare_data(df, race)\n",
    "    else:\n",
    "        stanford_df = data\n",
    "    \n",
    "    save_race = stanford_df['subject_race']\n",
    "    \n",
    "    # checks if race is in dataframe to avoid any errors\n",
    "    cat_cols = ['subject_race','subject_sex', 'type','reason_for_stop', 'day of week', 'time of day']\n",
    "    \n",
    "    months = list(np.sort(stanford_df['month'].unique()))\n",
    "    \n",
    "    encoder = OneHotEncoder(sparse=False)\n",
    "\n",
    "    # Encode Categorical Data\n",
    "    df_encoded = pd.DataFrame(encoder.fit_transform(stanford_df[cat_cols]))\n",
    "    df_encoded.columns = encoder.get_feature_names(cat_cols)\n",
    "\n",
    "    # Replace Categotical Data with Encoded Data\n",
    "    df_stanford_ready = stanford_df.drop(cat_cols ,axis=1)\n",
    "    df_stanford_ready = pd.concat([df_encoded, df_stanford_ready], axis=1)\n",
    "    \n",
    "    first_months = months[:freq]\n",
    "    second_months = months[freq:freq+freq]\n",
    "    \n",
    "    counter = 0\n",
    "    \n",
    "    black_pres = []\n",
    "    black_rec = []\n",
    "    white_pres = []\n",
    "    white_rec = []\n",
    "    \n",
    "    overall_pres = []\n",
    "    overall_rec = []\n",
    "    \n",
    "    black_rates = []\n",
    "    white_rates = []\n",
    "    \n",
    "    black_f = []\n",
    "    white_f = []\n",
    "    \n",
    "    count = 0\n",
    "    \n",
    "    for _ in range(int(len(months)/freq)-1):\n",
    "        \n",
    "        reg_rf = LinearDiscriminantAnalysis()\n",
    "        \n",
    "        if counter == 0:        \n",
    "            # df containing only the first freq months\n",
    "            first_run = df_stanford_ready[df_stanford_ready['month'].isin(first_months)].reset_index().drop(['index'], axis=1)\n",
    "            target = first_run['improved_target']\n",
    "     \n",
    "            first_run = first_run.drop(['improved_target', 'month', 'contraband_found', 'is_searched'], axis = 1).reset_index().drop(['index'], axis=1)\n",
    "            \n",
    "            if race == 0:\n",
    "                first_run = first_run.drop(['subject_race_black'], axis = 1).reset_index().drop(['index'], axis=1)\n",
    "                first_run = first_run.drop(['subject_race_white'], axis = 1).reset_index().drop(['index'], axis=1)\n",
    "        else:\n",
    "            target = first_run['improved_target']\n",
    "\n",
    "            first_run = first_run.drop(['improved_target'], axis = 1).reset_index().drop(['index'], axis=1)\n",
    "            \n",
    "            if race == 0:\n",
    "                first_run = first_run.drop(['subject_race_black'], axis = 1).reset_index().drop(['index'], axis=1)\n",
    "                first_run = first_run.drop(['subject_race_white'], axis = 1).reset_index().drop(['index'], axis=1)\n",
    "                \n",
    "        # df containing the next freq months after the ones above\n",
    "        second_run = df_stanford_ready[df_stanford_ready['month'].isin(second_months)].reset_index().drop(['index'], axis=1)\n",
    "        second_run_target = second_run['improved_target']\n",
    "\n",
    "        # save both columns for label flipping later on \n",
    "        save_contra_second = second_run['contraband_found']\n",
    "        save_searched_second = second_run['is_searched']\n",
    "        \n",
    "        if race == 0:\n",
    "            save_raceb_second = second_run['subject_race_black']\n",
    "            save_racew_second = second_run['subject_race_white']\n",
    "            second_run = second_run.drop(['month', 'improved_target', 'contraband_found', 'is_searched', 'subject_race_black', 'subject_race_white'], axis=1)\n",
    "        else:           \n",
    "            second_run = second_run.drop(['month', 'improved_target', 'contraband_found', 'is_searched'], axis=1)\n",
    "        \n",
    "        # fit the model\n",
    "        reg_rf.fit(first_run, target)\n",
    "        \n",
    "        # predicting\n",
    "        y_pred = reg_rf.predict(second_run)\n",
    "        second_run['improved_target'] = second_run_target\n",
    "        second_run['preds'] = y_pred\n",
    "        \n",
    "        if race == 0:\n",
    "            second_run['subject_race_black'] = save_raceb_second\n",
    "            second_run['subject_race_white'] = save_racew_second\n",
    "        \n",
    "        black_rates.append((sum(second_run[second_run['subject_race_black']==1]['preds']==1) / sum(second_run['subject_race_black']==1))*100)\n",
    "        white_rates.append((sum(second_run[second_run['subject_race_white']==1]['preds']==1) / sum(second_run['subject_race_white']==1))*100)\n",
    "        \n",
    "        # evals the model\n",
    "        if race == 1:\n",
    "            black_precision, white_precision, black_recall, white_recall, overall_precision, overall_recall, black_f1, white_f1 = eval_model(second_run)\n",
    "            black_pres.append(black_precision)\n",
    "            black_rec.append(black_recall)\n",
    "            white_pres.append(white_precision)\n",
    "            white_rec.append(white_recall)\n",
    "            overall_pres.append(overall_precision)\n",
    "            overall_rec.append(overall_recall)\n",
    "            black_f.append(black_f1)\n",
    "            white_f.append(white_f1)\n",
    "\n",
    "        \n",
    "        first_run = flip_labels(second_run, save_contra_second, save_searched_second)\n",
    "        \n",
    "        first_months = second_months\n",
    "        second_months = list(np.array(second_months)+freq)\n",
    "        \n",
    "        counter+=1\n",
    "    return df_stanford_ready, black_pres, black_rec, white_pres, white_rec, overall_pres, overall_rec, black_rates, white_rates, black_f, white_f"
   ]
  },
  {
   "cell_type": "code",
   "execution_count": 186,
   "id": "97f11200",
   "metadata": {},
   "outputs": [],
   "source": [
    "def plot_evals(x1,x2,metric):\n",
    "    if metric == 'precision':\n",
    "        \n",
    "        y = list(range(len(x1)))\n",
    "        data = {'Iter': y,\n",
    "            'Black': x1,\n",
    "            'White': x2\n",
    "           }\n",
    "        df = pd.DataFrame(data,columns=['Iter','Black', 'White'])\n",
    "        plt.plot(df['Iter'], df['Black'], color='red', marker='o')\n",
    "        plt.plot(df['Iter'], df['White'], color='blue', marker='o')\n",
    "        plt.title('Black Precision vs White Precision')\n",
    "        plt.xlabel('Iteration')\n",
    "        plt.ylabel('Precision')\n",
    "        plt.legend(['Black', 'White'])\n",
    "        \n",
    "    if metric == 'recall':\n",
    "        \n",
    "        y = list(range(len(x1)))\n",
    "        data = {'Iter': y,\n",
    "            'Black': x1,\n",
    "            'White': x2\n",
    "           }\n",
    "        df = pd.DataFrame(data,columns=['Iter','Black', 'White'])\n",
    "        plt.plot(df['Iter'], df['Black'], color='red', marker='o')\n",
    "        plt.plot(df['Iter'], df['White'], color='blue', marker='o')\n",
    "        plt.title('Black Recall vs White Recall')\n",
    "        plt.xlabel('Iteration')\n",
    "        plt.ylabel('Recall')\n",
    "        plt.legend(['Black', 'White'])\n",
    "        \n",
    "    if metric == 'all':\n",
    "        \n",
    "        y = list(range(len(x1)))\n",
    "        data = {'Iter': y,\n",
    "            'Black': x1,\n",
    "            'White': x2\n",
    "           }\n",
    "        df = pd.DataFrame(data,columns=['Iter','Black', 'White'])\n",
    "        plt.plot(df['Iter'], df['Black'], color='black', marker='o')\n",
    "        plt.plot(df['Iter'], df['White'], color='green', marker='o')\n",
    "        plt.title('Overall Precision/Recall')\n",
    "        plt.xlabel('Iteration')\n",
    "        plt.ylabel('Precision/Recall')\n",
    "        plt.legend(['Precison', 'Recall'])\n",
    "        \n",
    "    if metric == 'f1':\n",
    "        \n",
    "        y = list(range(len(x1)))\n",
    "        data = {'Iter': y,\n",
    "            'Black': x1,\n",
    "            'White': x2\n",
    "           }\n",
    "        df = pd.DataFrame(data,columns=['Iter','Black', 'White'])\n",
    "        plt.plot(df['Iter'], df['Black'], color='red', marker='o')\n",
    "        plt.plot(df['Iter'], df['White'], color='blue', marker='o')\n",
    "        plt.title('Black F1 vs White F1')\n",
    "        plt.xlabel('Iteration')\n",
    "        plt.ylabel('Recall')\n",
    "        plt.legend(['Black', 'White'])\n",
    "        \n",
    "    if metric == 'search':\n",
    "        y = list(range(len(np.array(x1))))\n",
    "        data = {'Iter': y,\n",
    "            'Black': x1,\n",
    "            'White': x2\n",
    "           }\n",
    "        df = pd.DataFrame(data,columns=['Iter','Black', 'White'])\n",
    "        plt.plot(df['Iter'], df['Black'], color='red', marker='o')\n",
    "        plt.plot(df['Iter'], df['White'], color='blue', marker='o')\n",
    "        plt.title('Black vs White Search Rate')\n",
    "        plt.xlabel('Iteration')\n",
    "        plt.ylabel('Search Rate')\n",
    "        plt.legend(['Black Search Rate', 'White Search Rate'])"
   ]
  },
  {
   "cell_type": "code",
   "execution_count": 184,
   "id": "4b8edae9",
   "metadata": {},
   "outputs": [],
   "source": [
    "test_feed = prepare_data(stops)"
   ]
  },
  {
   "cell_type": "code",
   "execution_count": 185,
   "id": "aac94a53",
   "metadata": {},
   "outputs": [],
   "source": [
    "final_feed, black_pres, black_rec, white_pres, white_rec, overall_pres, overall_rec, black_rates, white_rates, black_f1, white_f1 = make_model(test_feed)"
   ]
  },
  {
   "cell_type": "code",
   "execution_count": 169,
   "id": "4f81fa3a",
   "metadata": {},
   "outputs": [
    {
     "data": {
      "image/png": "[encoded data removed]",
      "text/plain": [
       "<Figure size 432x288 with 1 Axes>"
      ]
     },
     "metadata": {
      "needs_background": "light"
     },
     "output_type": "display_data"
    }
   ],
   "source": [
    "plot_evals(black_pres, white_pres, 'precision')"
   ]
  },
  {
   "cell_type": "code",
   "execution_count": 170,
   "id": "a4f01c8c",
   "metadata": {},
   "outputs": [
    {
     "data": {
      "image/png": "[encoded data removed]",
      "text/plain": [
       "<Figure size 432x288 with 1 Axes>"
      ]
     },
     "metadata": {
      "needs_background": "light"
     },
     "output_type": "display_data"
    }
   ],
   "source": [
    "plot_evals(black_rec, white_rec, 'recall')"
   ]
  },
  {
   "cell_type": "code",
   "execution_count": 171,
   "id": "1c29965b",
   "metadata": {},
   "outputs": [
    {
     "data": {
      "image/png": "[encoded data removed]",
      "text/plain": [
       "<Figure size 432x288 with 1 Axes>"
      ]
     },
     "metadata": {
      "needs_background": "light"
     },
     "output_type": "display_data"
    }
   ],
   "source": [
    "plot_evals(overall_pres, overall_rec, 'all')"
   ]
  },
  {
   "cell_type": "code",
   "execution_count": 173,
   "id": "eb006b59",
   "metadata": {},
   "outputs": [
    {
     "data": {
      "image/png": "[encoded data removed]",
      "text/plain": [
       "<Figure size 432x288 with 1 Axes>"
      ]
     },
     "metadata": {
      "needs_background": "light"
     },
     "output_type": "display_data"
    }
   ],
   "source": [
    "plot_evals(black_rates, white_rates, 'search')"
   ]
  },
  {
   "cell_type": "code",
   "execution_count": 189,
   "id": "ba080d12",
   "metadata": {},
   "outputs": [
    {
     "data": {
      "image/png": "[encoded data removed]",
      "text/plain": [
       "<Figure size 432x288 with 1 Axes>"
      ]
     },
     "metadata": {
      "needs_background": "light"
     },
     "output_type": "display_data"
    }
   ],
   "source": [
    "plot_evals(black_f1, white_f1, 'f1')"
   ]
  },
  {
   "cell_type": "code",
   "execution_count": 35,
   "id": "7151b000",
   "metadata": {},
   "outputs": [],
   "source": [
    "stops['date'] = pd.to_datetime(stops['date'])\n",
    "stops['day_of_week'] = stops['date'].dt.day_name()"
   ]
  },
  {
   "cell_type": "code",
   "execution_count": 36,
   "id": "72f85286",
   "metadata": {},
   "outputs": [],
   "source": [
    "stops = stops.reset_index().drop(['index','time','year','date','citation_issued',\n",
    "                                  'warning_issued','arrest_made','frisk_performed'], axis=1)"
   ]
  },
  {
   "cell_type": "code",
   "execution_count": 37,
   "id": "029cedc1",
   "metadata": {},
   "outputs": [],
   "source": [
    "stops_model = stops[['subject_age','subject_race','subject_sex','type','reason_for_stop','day_night','day_of_week','search_conducted']]\n"
   ]
  },
  {
   "cell_type": "code",
   "execution_count": 38,
   "id": "41db92fa",
   "metadata": {},
   "outputs": [
    {
     "name": "stderr",
     "output_type": "stream",
     "text": [
      "/tmp/ipykernel_131/1190972657.py:1: SettingWithCopyWarning: \n",
      "A value is trying to be set on a copy of a slice from a DataFrame.\n",
      "Try using .loc[row_indexer,col_indexer] = value instead\n",
      "\n",
      "See the caveats in the documentation: https://pandas.pydata.org/pandas-docs/stable/user_guide/indexing.html#returning-a-view-versus-a-copy\n",
      "  stops_model['search_conducted'] = stops_model['search_conducted']*1\n"
     ]
    }
   ],
   "source": [
    "stops_model['search_conducted'] = stops_model['search_conducted']*1"
   ]
  },
  {
   "cell_type": "code",
   "execution_count": 40,
   "id": "7fcdfca9",
   "metadata": {},
   "outputs": [],
   "source": [
    "cat_cols = ['subject_race','subject_sex','type','reason_for_stop', 'day_night','day_of_week']\n",
    "\n",
    "encoder = OneHotEncoder(sparse=False)\n",
    "\n",
    "# Encode Categorical Data\n",
    "df_encoded = pd.DataFrame(encoder.fit_transform(stops_model[cat_cols]))\n",
    "df_encoded.columns = encoder.get_feature_names(cat_cols)\n",
    "\n",
    "# Replace Categotical Data with Encoded Data\n",
    "df_ready = stops_model.drop(cat_cols ,axis=1)\n",
    "df_ready = pd.concat([df_encoded, df_ready], axis=1)"
   ]
  },
  {
   "cell_type": "code",
   "execution_count": 41,
   "id": "b9b9c128",
   "metadata": {},
   "outputs": [
    {
     "data": {
      "text/html": [
       "<div>\n",
       "<style scoped>\n",
       "    .dataframe tbody tr th:only-of-type {\n",
       "        vertical-align: middle;\n",
       "    }\n",
       "\n",
       "    .dataframe tbody tr th {\n",
       "        vertical-align: top;\n",
       "    }\n",
       "\n",
       "    .dataframe thead th {\n",
       "        text-align: right;\n",
       "    }\n",
       "</style>\n",
       "<table border=\"1\" class=\"dataframe\">\n",
       "  <thead>\n",
       "    <tr style=\"text-align: right;\">\n",
       "      <th></th>\n",
       "      <th>subject_race_asian/pacific islander</th>\n",
       "      <th>subject_race_black</th>\n",
       "      <th>subject_race_hispanic</th>\n",
       "      <th>subject_race_white</th>\n",
       "      <th>subject_sex_female</th>\n",
       "      <th>subject_sex_male</th>\n",
       "      <th>type_vehicular</th>\n",
       "      <th>reason_for_stop_Checkpoint</th>\n",
       "      <th>reason_for_stop_Driving While Impaired</th>\n",
       "      <th>reason_for_stop_Investigation</th>\n",
       "      <th>...</th>\n",
       "      <th>day_night_night</th>\n",
       "      <th>day_of_week_Friday</th>\n",
       "      <th>day_of_week_Monday</th>\n",
       "      <th>day_of_week_Saturday</th>\n",
       "      <th>day_of_week_Sunday</th>\n",
       "      <th>day_of_week_Thursday</th>\n",
       "      <th>day_of_week_Tuesday</th>\n",
       "      <th>day_of_week_Wednesday</th>\n",
       "      <th>subject_age</th>\n",
       "      <th>search_conducted</th>\n",
       "    </tr>\n",
       "  </thead>\n",
       "  <tbody>\n",
       "    <tr>\n",
       "      <th>0</th>\n",
       "      <td>0.0</td>\n",
       "      <td>0.0</td>\n",
       "      <td>0.0</td>\n",
       "      <td>1.0</td>\n",
       "      <td>0.0</td>\n",
       "      <td>1.0</td>\n",
       "      <td>1.0</td>\n",
       "      <td>0.0</td>\n",
       "      <td>0.0</td>\n",
       "      <td>0.0</td>\n",
       "      <td>...</td>\n",
       "      <td>0.0</td>\n",
       "      <td>0.0</td>\n",
       "      <td>0.0</td>\n",
       "      <td>0.0</td>\n",
       "      <td>0.0</td>\n",
       "      <td>0.0</td>\n",
       "      <td>0.0</td>\n",
       "      <td>1.0</td>\n",
       "      <td>35.0</td>\n",
       "      <td>0</td>\n",
       "    </tr>\n",
       "    <tr>\n",
       "      <th>1</th>\n",
       "      <td>0.0</td>\n",
       "      <td>1.0</td>\n",
       "      <td>0.0</td>\n",
       "      <td>0.0</td>\n",
       "      <td>1.0</td>\n",
       "      <td>0.0</td>\n",
       "      <td>1.0</td>\n",
       "      <td>0.0</td>\n",
       "      <td>0.0</td>\n",
       "      <td>0.0</td>\n",
       "      <td>...</td>\n",
       "      <td>0.0</td>\n",
       "      <td>0.0</td>\n",
       "      <td>0.0</td>\n",
       "      <td>0.0</td>\n",
       "      <td>0.0</td>\n",
       "      <td>0.0</td>\n",
       "      <td>0.0</td>\n",
       "      <td>1.0</td>\n",
       "      <td>40.0</td>\n",
       "      <td>0</td>\n",
       "    </tr>\n",
       "    <tr>\n",
       "      <th>2</th>\n",
       "      <td>0.0</td>\n",
       "      <td>1.0</td>\n",
       "      <td>0.0</td>\n",
       "      <td>0.0</td>\n",
       "      <td>1.0</td>\n",
       "      <td>0.0</td>\n",
       "      <td>1.0</td>\n",
       "      <td>0.0</td>\n",
       "      <td>0.0</td>\n",
       "      <td>0.0</td>\n",
       "      <td>...</td>\n",
       "      <td>0.0</td>\n",
       "      <td>0.0</td>\n",
       "      <td>0.0</td>\n",
       "      <td>0.0</td>\n",
       "      <td>0.0</td>\n",
       "      <td>0.0</td>\n",
       "      <td>0.0</td>\n",
       "      <td>1.0</td>\n",
       "      <td>50.0</td>\n",
       "      <td>0</td>\n",
       "    </tr>\n",
       "    <tr>\n",
       "      <th>3</th>\n",
       "      <td>0.0</td>\n",
       "      <td>1.0</td>\n",
       "      <td>0.0</td>\n",
       "      <td>0.0</td>\n",
       "      <td>1.0</td>\n",
       "      <td>0.0</td>\n",
       "      <td>1.0</td>\n",
       "      <td>0.0</td>\n",
       "      <td>0.0</td>\n",
       "      <td>0.0</td>\n",
       "      <td>...</td>\n",
       "      <td>0.0</td>\n",
       "      <td>0.0</td>\n",
       "      <td>0.0</td>\n",
       "      <td>0.0</td>\n",
       "      <td>0.0</td>\n",
       "      <td>0.0</td>\n",
       "      <td>0.0</td>\n",
       "      <td>1.0</td>\n",
       "      <td>35.0</td>\n",
       "      <td>0</td>\n",
       "    </tr>\n",
       "    <tr>\n",
       "      <th>4</th>\n",
       "      <td>0.0</td>\n",
       "      <td>1.0</td>\n",
       "      <td>0.0</td>\n",
       "      <td>0.0</td>\n",
       "      <td>0.0</td>\n",
       "      <td>1.0</td>\n",
       "      <td>1.0</td>\n",
       "      <td>0.0</td>\n",
       "      <td>0.0</td>\n",
       "      <td>0.0</td>\n",
       "      <td>...</td>\n",
       "      <td>0.0</td>\n",
       "      <td>0.0</td>\n",
       "      <td>0.0</td>\n",
       "      <td>0.0</td>\n",
       "      <td>0.0</td>\n",
       "      <td>0.0</td>\n",
       "      <td>0.0</td>\n",
       "      <td>1.0</td>\n",
       "      <td>45.0</td>\n",
       "      <td>0</td>\n",
       "    </tr>\n",
       "    <tr>\n",
       "      <th>...</th>\n",
       "      <td>...</td>\n",
       "      <td>...</td>\n",
       "      <td>...</td>\n",
       "      <td>...</td>\n",
       "      <td>...</td>\n",
       "      <td>...</td>\n",
       "      <td>...</td>\n",
       "      <td>...</td>\n",
       "      <td>...</td>\n",
       "      <td>...</td>\n",
       "      <td>...</td>\n",
       "      <td>...</td>\n",
       "      <td>...</td>\n",
       "      <td>...</td>\n",
       "      <td>...</td>\n",
       "      <td>...</td>\n",
       "      <td>...</td>\n",
       "      <td>...</td>\n",
       "      <td>...</td>\n",
       "      <td>...</td>\n",
       "      <td>...</td>\n",
       "    </tr>\n",
       "    <tr>\n",
       "      <th>139807</th>\n",
       "      <td>0.0</td>\n",
       "      <td>1.0</td>\n",
       "      <td>0.0</td>\n",
       "      <td>0.0</td>\n",
       "      <td>0.0</td>\n",
       "      <td>1.0</td>\n",
       "      <td>1.0</td>\n",
       "      <td>0.0</td>\n",
       "      <td>0.0</td>\n",
       "      <td>0.0</td>\n",
       "      <td>...</td>\n",
       "      <td>1.0</td>\n",
       "      <td>0.0</td>\n",
       "      <td>1.0</td>\n",
       "      <td>0.0</td>\n",
       "      <td>0.0</td>\n",
       "      <td>0.0</td>\n",
       "      <td>0.0</td>\n",
       "      <td>0.0</td>\n",
       "      <td>26.0</td>\n",
       "      <td>1</td>\n",
       "    </tr>\n",
       "    <tr>\n",
       "      <th>139808</th>\n",
       "      <td>0.0</td>\n",
       "      <td>1.0</td>\n",
       "      <td>0.0</td>\n",
       "      <td>0.0</td>\n",
       "      <td>0.0</td>\n",
       "      <td>1.0</td>\n",
       "      <td>1.0</td>\n",
       "      <td>0.0</td>\n",
       "      <td>0.0</td>\n",
       "      <td>0.0</td>\n",
       "      <td>...</td>\n",
       "      <td>1.0</td>\n",
       "      <td>0.0</td>\n",
       "      <td>0.0</td>\n",
       "      <td>0.0</td>\n",
       "      <td>0.0</td>\n",
       "      <td>0.0</td>\n",
       "      <td>0.0</td>\n",
       "      <td>1.0</td>\n",
       "      <td>36.0</td>\n",
       "      <td>1</td>\n",
       "    </tr>\n",
       "    <tr>\n",
       "      <th>139809</th>\n",
       "      <td>0.0</td>\n",
       "      <td>1.0</td>\n",
       "      <td>0.0</td>\n",
       "      <td>0.0</td>\n",
       "      <td>0.0</td>\n",
       "      <td>1.0</td>\n",
       "      <td>1.0</td>\n",
       "      <td>0.0</td>\n",
       "      <td>0.0</td>\n",
       "      <td>0.0</td>\n",
       "      <td>...</td>\n",
       "      <td>1.0</td>\n",
       "      <td>0.0</td>\n",
       "      <td>0.0</td>\n",
       "      <td>0.0</td>\n",
       "      <td>0.0</td>\n",
       "      <td>0.0</td>\n",
       "      <td>0.0</td>\n",
       "      <td>1.0</td>\n",
       "      <td>37.0</td>\n",
       "      <td>1</td>\n",
       "    </tr>\n",
       "    <tr>\n",
       "      <th>139810</th>\n",
       "      <td>0.0</td>\n",
       "      <td>1.0</td>\n",
       "      <td>0.0</td>\n",
       "      <td>0.0</td>\n",
       "      <td>0.0</td>\n",
       "      <td>1.0</td>\n",
       "      <td>1.0</td>\n",
       "      <td>0.0</td>\n",
       "      <td>0.0</td>\n",
       "      <td>0.0</td>\n",
       "      <td>...</td>\n",
       "      <td>1.0</td>\n",
       "      <td>0.0</td>\n",
       "      <td>0.0</td>\n",
       "      <td>0.0</td>\n",
       "      <td>0.0</td>\n",
       "      <td>0.0</td>\n",
       "      <td>0.0</td>\n",
       "      <td>1.0</td>\n",
       "      <td>26.0</td>\n",
       "      <td>1</td>\n",
       "    </tr>\n",
       "    <tr>\n",
       "      <th>139811</th>\n",
       "      <td>0.0</td>\n",
       "      <td>1.0</td>\n",
       "      <td>0.0</td>\n",
       "      <td>0.0</td>\n",
       "      <td>0.0</td>\n",
       "      <td>1.0</td>\n",
       "      <td>1.0</td>\n",
       "      <td>0.0</td>\n",
       "      <td>0.0</td>\n",
       "      <td>0.0</td>\n",
       "      <td>...</td>\n",
       "      <td>1.0</td>\n",
       "      <td>0.0</td>\n",
       "      <td>0.0</td>\n",
       "      <td>0.0</td>\n",
       "      <td>0.0</td>\n",
       "      <td>0.0</td>\n",
       "      <td>0.0</td>\n",
       "      <td>1.0</td>\n",
       "      <td>24.0</td>\n",
       "      <td>1</td>\n",
       "    </tr>\n",
       "  </tbody>\n",
       "</table>\n",
       "<p>139812 rows × 28 columns</p>\n",
       "</div>"
      ],
      "text/plain": [
       "        subject_race_asian/pacific islander  subject_race_black  \\\n",
       "0                                       0.0                 0.0   \n",
       "1                                       0.0                 1.0   \n",
       "2                                       0.0                 1.0   \n",
       "3                                       0.0                 1.0   \n",
       "4                                       0.0                 1.0   \n",
       "...                                     ...                 ...   \n",
       "139807                                  0.0                 1.0   \n",
       "139808                                  0.0                 1.0   \n",
       "139809                                  0.0                 1.0   \n",
       "139810                                  0.0                 1.0   \n",
       "139811                                  0.0                 1.0   \n",
       "\n",
       "        subject_race_hispanic  subject_race_white  subject_sex_female  \\\n",
       "0                         0.0                 1.0                 0.0   \n",
       "1                         0.0                 0.0                 1.0   \n",
       "2                         0.0                 0.0                 1.0   \n",
       "3                         0.0                 0.0                 1.0   \n",
       "4                         0.0                 0.0                 0.0   \n",
       "...                       ...                 ...                 ...   \n",
       "139807                    0.0                 0.0                 0.0   \n",
       "139808                    0.0                 0.0                 0.0   \n",
       "139809                    0.0                 0.0                 0.0   \n",
       "139810                    0.0                 0.0                 0.0   \n",
       "139811                    0.0                 0.0                 0.0   \n",
       "\n",
       "        subject_sex_male  type_vehicular  reason_for_stop_Checkpoint  \\\n",
       "0                    1.0             1.0                         0.0   \n",
       "1                    0.0             1.0                         0.0   \n",
       "2                    0.0             1.0                         0.0   \n",
       "3                    0.0             1.0                         0.0   \n",
       "4                    1.0             1.0                         0.0   \n",
       "...                  ...             ...                         ...   \n",
       "139807               1.0             1.0                         0.0   \n",
       "139808               1.0             1.0                         0.0   \n",
       "139809               1.0             1.0                         0.0   \n",
       "139810               1.0             1.0                         0.0   \n",
       "139811               1.0             1.0                         0.0   \n",
       "\n",
       "        reason_for_stop_Driving While Impaired  reason_for_stop_Investigation  \\\n",
       "0                                          0.0                            0.0   \n",
       "1                                          0.0                            0.0   \n",
       "2                                          0.0                            0.0   \n",
       "3                                          0.0                            0.0   \n",
       "4                                          0.0                            0.0   \n",
       "...                                        ...                            ...   \n",
       "139807                                     0.0                            0.0   \n",
       "139808                                     0.0                            0.0   \n",
       "139809                                     0.0                            0.0   \n",
       "139810                                     0.0                            0.0   \n",
       "139811                                     0.0                            0.0   \n",
       "\n",
       "        ...  day_night_night  day_of_week_Friday  day_of_week_Monday  \\\n",
       "0       ...              0.0                 0.0                 0.0   \n",
       "1       ...              0.0                 0.0                 0.0   \n",
       "2       ...              0.0                 0.0                 0.0   \n",
       "3       ...              0.0                 0.0                 0.0   \n",
       "4       ...              0.0                 0.0                 0.0   \n",
       "...     ...              ...                 ...                 ...   \n",
       "139807  ...              1.0                 0.0                 1.0   \n",
       "139808  ...              1.0                 0.0                 0.0   \n",
       "139809  ...              1.0                 0.0                 0.0   \n",
       "139810  ...              1.0                 0.0                 0.0   \n",
       "139811  ...              1.0                 0.0                 0.0   \n",
       "\n",
       "        day_of_week_Saturday  day_of_week_Sunday  day_of_week_Thursday  \\\n",
       "0                        0.0                 0.0                   0.0   \n",
       "1                        0.0                 0.0                   0.0   \n",
       "2                        0.0                 0.0                   0.0   \n",
       "3                        0.0                 0.0                   0.0   \n",
       "4                        0.0                 0.0                   0.0   \n",
       "...                      ...                 ...                   ...   \n",
       "139807                   0.0                 0.0                   0.0   \n",
       "139808                   0.0                 0.0                   0.0   \n",
       "139809                   0.0                 0.0                   0.0   \n",
       "139810                   0.0                 0.0                   0.0   \n",
       "139811                   0.0                 0.0                   0.0   \n",
       "\n",
       "        day_of_week_Tuesday  day_of_week_Wednesday  subject_age  \\\n",
       "0                       0.0                    1.0         35.0   \n",
       "1                       0.0                    1.0         40.0   \n",
       "2                       0.0                    1.0         50.0   \n",
       "3                       0.0                    1.0         35.0   \n",
       "4                       0.0                    1.0         45.0   \n",
       "...                     ...                    ...          ...   \n",
       "139807                  0.0                    0.0         26.0   \n",
       "139808                  0.0                    1.0         36.0   \n",
       "139809                  0.0                    1.0         37.0   \n",
       "139810                  0.0                    1.0         26.0   \n",
       "139811                  0.0                    1.0         24.0   \n",
       "\n",
       "        search_conducted  \n",
       "0                      0  \n",
       "1                      0  \n",
       "2                      0  \n",
       "3                      0  \n",
       "4                      0  \n",
       "...                  ...  \n",
       "139807                 1  \n",
       "139808                 1  \n",
       "139809                 1  \n",
       "139810                 1  \n",
       "139811                 1  \n",
       "\n",
       "[139812 rows x 28 columns]"
      ]
     },
     "execution_count": 41,
     "metadata": {},
     "output_type": "execute_result"
    }
   ],
   "source": [
    "df_ready"
   ]
  },
  {
   "cell_type": "code",
   "execution_count": 42,
   "id": "03d833a8",
   "metadata": {},
   "outputs": [],
   "source": [
    "reg_rf = LinearDiscriminantAnalysis()"
   ]
  },
  {
   "cell_type": "code",
   "execution_count": 43,
   "id": "8ceac0d1",
   "metadata": {},
   "outputs": [],
   "source": [
    "test_1 = df_ready.drop(['search_conducted'],axis=1)\n",
    "test_1_y = df_ready['search_conducted']"
   ]
  },
  {
   "cell_type": "code",
   "execution_count": 44,
   "id": "91df960f",
   "metadata": {},
   "outputs": [],
   "source": [
    "X_train, X_test, y_train, y_test = train_test_split(test_1, test_1_y, test_size=0.15)"
   ]
  },
  {
   "cell_type": "code",
   "execution_count": 45,
   "id": "9e355ec0",
   "metadata": {},
   "outputs": [],
   "source": [
    "test_model = reg_rf.fit(X_train, y_train)"
   ]
  },
  {
   "cell_type": "code",
   "execution_count": 46,
   "id": "7407d0c1",
   "metadata": {},
   "outputs": [],
   "source": [
    "y_pred = test_model.predict(X_test)"
   ]
  },
  {
   "cell_type": "code",
   "execution_count": 47,
   "id": "57c8585c",
   "metadata": {},
   "outputs": [],
   "source": [
    "y_test = list(y_test)"
   ]
  },
  {
   "cell_type": "code",
   "execution_count": 48,
   "id": "72782f99",
   "metadata": {},
   "outputs": [
    {
     "data": {
      "text/plain": [
       "0.960232691207324"
      ]
     },
     "execution_count": 48,
     "metadata": {},
     "output_type": "execute_result"
    }
   ],
   "source": [
    "fin_sum = 0\n",
    "for i in range(len(y_pred)):\n",
    "    if y_test[i]==y_pred[i]:\n",
    "        fin_sum+=1\n",
    "fin_sum/len(y_pred)"
   ]
  },
  {
   "cell_type": "code",
   "execution_count": null,
   "id": "930dfc5a",
   "metadata": {},
   "outputs": [],
   "source": []
  },
  {
   "cell_type": "code",
   "execution_count": null,
   "id": "4ef5ffa3",
   "metadata": {},
   "outputs": [],
   "source": []
  }
 ],
 "metadata": {
  "kernelspec": {
   "display_name": "Python 3 (ipykernel)",
   "language": "python",
   "name": "python3"
  },
  "language_info": {
   "codemirror_mode": {
    "name": "ipython",
    "version": 3
   },
   "file_extension": ".py",
   "mimetype": "text/x-python",
   "name": "python",
   "nbconvert_exporter": "python",
   "pygments_lexer": "ipython3",
   "version": "3.9.5"
  }
 },
 "nbformat": 4,
 "nbformat_minor": 5
}
